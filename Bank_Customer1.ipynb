{
  "nbformat": 4,
  "nbformat_minor": 0,
  "metadata": {
    "colab": {
      "provenance": []
    },
    "kernelspec": {
      "name": "python3",
      "display_name": "Python 3"
    },
    "language_info": {
      "name": "python"
    }
  },
  "cells": [
    {
      "cell_type": "code",
      "execution_count": null,
      "metadata": {
        "id": "Pg0OTCbip3uX"
      },
      "outputs": [],
      "source": [
        "import pandas as pd\n",
        "import numpy as np\n",
        "from sklearn.model_selection import train_test_split\n",
        "from sklearn.preprocessing import StandardScaler\n",
        "from tensorflow import keras\n",
        "from tensorflow.keras import layers\n",
        "from sklearn.metrics import classification_report\n",
        "\n",
        "# Load the dataset\n",
        "data = pd.read_csv('/content/sample_data/Churn_Modelling.csv')\n",
        "\n",
        "# Data preprocessing\n",
        "# Handle missing data (if any)\n",
        "data.dropna(inplace=True)  # Remove rows with missing values\n",
        "\n",
        "# Encode categorical features\n",
        "data = pd.get_dummies(data, columns=[\"Geography\", \"Gender\"], drop_first=True)\n",
        "\n",
        "# Split data into X (features) and y (target variable)\n",
        "X = data.drop(columns=[\"CustomerId\", \"Exited\"])  # Exclude non-predictive features\n",
        "y = data[\"Exited\"]\n",
        "\n",
        "# Split data into training and testing sets\n",
        "X_train, X_test, y_train, y_test = train_test_split(X, y, test_size=0.2, random_state=42)\n",
        "\n",
        "# Feature scaling\n",
        "scaler = StandardScaler()\n",
        "X_train = scaler.fit_transform(X_train)\n",
        "X_test = scaler.transform(X_test)\n",
        "\n",
        "# Build a neural network model\n",
        "model = keras.Sequential([\n",
        "    layers.Input(shape=(X_train.shape[1],)),\n",
        "    layers.Dense(128, activation='relu'),\n",
        "    layers.Dropout(0.2),\n",
        "    layers.Dense(64, activation='relu'),\n",
        "    layers.Dense(1, activation='sigmoid')\n",
        "])\n",
        "\n",
        "model.compile(optimizer='adam', loss='binary_crossentropy', metrics=['accuracy'])\n",
        "\n",
        "# Train the model\n",
        "model.fit(X_train, y_train, epochs=3, batch_size=32, validation_split=0.2)\n",
        "\n",
        "# Model evaluation\n",
        "y_pred = (model.predict(X_test) > 0.5).astype(int)\n",
        "print(classification_report(y_test, y_pred))\n"
      ]
    },
    {
      "cell_type": "markdown",
      "source": [
        "Artificial Neural Network :\n",
        "The term \"Arti cial Neural Network\" is derived from Biological neural networks that develop the structure\n",
        "of a human brain. Similar to the human brain that has neurons interconnected to one another, arti cial\n",
        "neural networks also have neurons that are interconnected to one another in various layers of thenetworks.\n",
        "These neurons are known as nodes\n",
        "\n",
        "The architecture of an artificial neural network:\n",
        "\n",
        "Input Layer:\n",
        "As the name suggests, it accepts inputs in several different formats provided by the programmer.\n",
        "Hidden Layer\n",
        "The hidden layer presents in-between input and output layers. It performs all the calculationsto nd hidden\n",
        "features and patterns.\n",
        "Output Layer:\n",
        "The input goes through a series of transformations using the hidden layer, which nally results in output\n",
        "that is conveyed using this layer\n",
        "\n",
        "\n",
        "Keras:\n",
        "Keras is an open-source high-level Neural Network library, which is written in Python is capable enough\n",
        "to run on Theano, TensorFlow, or CNTK. It was developed by one of the Google engineers, Francois\n",
        "Chollet. It is made user-friendly, extensible, and modular for facilitating faster experimentation with deep\n",
        "neural networks. It not only supports Convolutional Networks and Recurrent Networks individually but\n",
        "also their combination.\n",
        "It cannot handle low-level computations, so it makes use of theBackendlibrary to resolve it.T\n",
        "Tensor ow:\n",
        "TensorFlow is a Google product, which is one of the most famous deep learning tools widelyused in the\n",
        "research area of machine learning and deep neural network. It came into the market on 9th November 2015\n",
        "under the Apache License 2.0. It is built in such a way that it can easily run on multiple CPUs and GPUs\n",
        "as well as on mobile operating systems. It consists of various wrappers in distinct languages such asJava,\n",
        "C++, or Python\n",
        "Normalization:\n",
        "Normalization is a scaling technique in Machine Learning applied during data preparation tochange the\n",
        "values of numeric columns in the dataset to use a common scale. It is not necessary for all datasets in a\n",
        "model. It is required only when features of machine learning models have different ranges"
      ],
      "metadata": {
        "id": "fGYJBxrhpJv1"
      }
    }
  ]
}