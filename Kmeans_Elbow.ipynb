{
  "nbformat": 4,
  "nbformat_minor": 0,
  "metadata": {
    "colab": {
      "provenance": []
    },
    "kernelspec": {
      "name": "python3",
      "display_name": "Python 3"
    },
    "language_info": {
      "name": "python"
    }
  },
  "cells": [
    {
      "cell_type": "code",
      "execution_count": null,
      "metadata": {
        "id": "lIT_RJdwrbXn"
      },
      "outputs": [],
      "source": [
        "import pandas as pd\n",
        "import numpy as np\n",
        "import matplotlib.pyplot as plt\n",
        "import seaborn as sns\n",
        "from sklearn.cluster import KMeans\n",
        "import sklearn.cluster as cluster\n",
        "\n",
        "df = pd.read_csv('/content/sample_data/sales_data_sample.csv',encoding = 'ISO-8859-1')\n",
        "X=df[[\"QTR_ID\",\"YEAR_ID\"]]\n",
        "wcss = []\n",
        "\n",
        "for k in range(1, 5):\n",
        "    kmeans = KMeans(n_clusters=k, random_state=0)\n",
        "    kmeans.fit(X)\n",
        "    wcss.append(kmeans.inertia_)\n",
        "\n",
        "plt.figure(figsize=(6, 4))\n",
        "plt.plot(range(1, 5), wcss, marker='o', linestyle='--')\n",
        "plt.title('Elbow Method for Optimal k')\n",
        "plt.xlabel('Number of Clusters (k)')\n",
        "plt.ylabel('Within-Cluster Sum of Squares (WCSS)')\n",
        "plt.show()\n",
        "\n",
        "kmeans = cluster.KMeans(n_clusters=2 ,init=\"k-means++\")\n",
        "kmeans = kmeans.fit(df[['QTR_ID']])\n",
        "df['Clusters'] = kmeans.labels_\n",
        "sns.scatterplot(x=\"QTR_ID\", y=\"YEAR_ID\",hue = 'Clusters',  data=df)"
      ]
    },
    {
      "cell_type": "markdown",
      "source": [
        "Clustering algorithms try to find natural clusters in data, the various aspects of\n",
        "how the algorithms to cluster data can be tuned and modified. Clustering is based\n",
        "on the principle that items within the same cluster must be similar to each other.\n",
        "\n",
        "Uses of Clustering\n",
        "Marketing:\n",
        "In the field of marketing, clustering can be used to identify various customer\n",
        "groups with existing customer data. Based on that, customers can be provided\n",
        "with discounts, offers, promo codes etc.\n",
        "Real Estate:\n",
        "Clustering can be used to understand and divide various property locations based\n",
        "on value and importance. Clustering algorithms can process through the data and\n",
        "identify various groups of property on the basis of probable price.\n",
        "BookStore and Library management:\n",
        "Libraries and Bookstores can use Clustering to better manage the book database.\n",
        "With proper book ordering, better operations can be implemented.\n",
        "K-Means Clustering\n",
        "K-Means clustering is an unsupervised machine learning algorithm that divides\n",
        "the given data into the given number of clusters. Here, the “K” is the given number\n",
        "of predefined clusters, that need to be created.\n",
        "It is a centroid based algorithm in which each cluster is associated with a centroid.\n",
        "The main idea is to reduce the distance between the data points and their\n",
        "respective cluster centroid.\n",
        "The algorithm takes raw unlabelled data as an input and divides the dataset into\n",
        "clusters and the process is repeated until the best clusters are found."
      ],
      "metadata": {
        "id": "B8BLuOUvnCu0"
      }
    }
  ]
}